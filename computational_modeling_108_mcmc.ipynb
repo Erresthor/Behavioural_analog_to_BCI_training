{
 "cells": [
  {
   "cell_type": "markdown",
   "metadata": {},
   "source": [
    "## MCMC / SVI to get probabilistic estimates of subject parameters \n",
    "\n",
    "Work in progress !"
   ]
  }
 ],
 "metadata": {
  "language_info": {
   "name": "python"
  }
 },
 "nbformat": 4,
 "nbformat_minor": 2
}
