{
 "cells": [
  {
   "cell_type": "code",
   "execution_count": 2,
   "metadata": {},
   "outputs": [],
   "source": [
    "import matlab.engine\n",
    "import numpy as np"
   ]
  },
  {
   "cell_type": "code",
   "execution_count": 7,
   "metadata": {},
   "outputs": [
    {
     "name": "stdout",
     "output_type": "stream",
     "text": [
      "{'dt': 12.1496773, 'options': {'tStart': 7645998302524, 'MaxIter': 32.0, 'MinIter': 1.0, 'TolFun': 0.0001, 'DisplayWin': 1.0, 'verbose': 1.0, 'families': matlab.double([]), 'priors': {'a': matlab.double([[0.3333333333333333],[0.3333333333333333],[0.3333333333333333]])}, 'figName': 'RFX-BMS', 'modelNames': matlab.double([]), 'handles': {'hf': <matlab.object object at 0x0000020C7F1E60F0>, 'ha': <matlab.object object at 0x0000020C7F1E64D0>, 'hc': <matlab.object object at 0x0000020C7F1E6110>, 'ho': <matlab.object object at 0x0000020C7F1E62B0>}}, 'L': matlab.double([[1.0,2.0,3.0],[4.0,5.0,6.0],[7.0,8.0,9.0]]), 'F': matlab.double([[10.631382520646504,21.860607169055754,22.244324395445403,22.247034973061627,22.247037427822175]]), 'Ef': matlab.double([[0.08336184995598414],[0.08391968856165351],[0.8327184614823624]]), 'Vf': matlab.double([[0.015282530385580024],[0.015375434886673717],[0.02785968507776195]]), 'ep': matlab.double([[0.02164,0.02134,0.95702]]), 'ELJ': 26.369187396374144, 'Sqf': -4.1425482540840814, 'Sqm': 0.020398285532113238, 'F0': 20.857000424564667, 'bor': 0.1994018495551086, 'Fffx': 22.90151112874971, 'pxp': matlab.double([[0.08372817930862805,0.08364011351207912,0.8326317071792928]]), 'date': matlab.double([[2025.0,2.0,13.0,13.0,59.0,56.373]])}\n"
     ]
    }
   ],
   "source": [
    "\n",
    "# Create or source your matrix (array)\n",
    "matrix = np.array([[1, 2, 3], [4, 5, 6], [7, 8, 9]])\n",
    "\n",
    "# Start the MATLAB engine\n",
    "eng = matlab.engine.start_matlab()\n",
    "\n",
    "# Convert the NumPy array to MATLAB array\n",
    "matlab_matrix = matlab.double(matrix.tolist())\n",
    "\n",
    "# Call the MATLAB function (replace 'my_matlab_function' with your function name)\n",
    "# Assuming 'my_matlab_function' is defined in your MATLAB path\n",
    "posterior,out = eng.VBA_groupBMC(matlab_matrix, nargout=2)\n",
    "\n",
    "# Print or process the result\n",
    "print(out)\n",
    "\n",
    "# Stop the MATLAB engine\n",
    "eng.quit()"
   ]
  }
 ],
 "metadata": {
  "kernelspec": {
   "display_name": "exploit_results_env",
   "language": "python",
   "name": "python3"
  },
  "language_info": {
   "codemirror_mode": {
    "name": "ipython",
    "version": 3
   },
   "file_extension": ".py",
   "mimetype": "text/x-python",
   "name": "python",
   "nbconvert_exporter": "python",
   "pygments_lexer": "ipython3",
   "version": "3.10.4"
  }
 },
 "nbformat": 4,
 "nbformat_minor": 2
}
