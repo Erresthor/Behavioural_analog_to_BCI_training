{
 "cells": [
  {
   "cell_type": "markdown",
   "metadata": {},
   "source": [
    "## Using LLMs to parse the text results in our task !"
   ]
  },
  {
   "cell_type": "code",
   "execution_count": 3,
   "metadata": {
    "vscode": {
     "languageId": "bat"
    }
   },
   "outputs": [
    {
     "name": "stdout",
     "output_type": "stream",
     "text": [
      "Requirement already satisfied: requests in c:\\users\\annic\\onedrive\\bureau\\mainphd\\code\\behavioural_exp_code\\exploit_results_env\\lib\\site-packages (2.32.3)\n",
      "Requirement already satisfied: charset-normalizer<4,>=2 in c:\\users\\annic\\onedrive\\bureau\\mainphd\\code\\behavioural_exp_code\\exploit_results_env\\lib\\site-packages (from requests) (3.3.2)\n",
      "Requirement already satisfied: idna<4,>=2.5 in c:\\users\\annic\\onedrive\\bureau\\mainphd\\code\\behavioural_exp_code\\exploit_results_env\\lib\\site-packages (from requests) (2.10)\n",
      "Requirement already satisfied: urllib3<3,>=1.21.1 in c:\\users\\annic\\onedrive\\bureau\\mainphd\\code\\behavioural_exp_code\\exploit_results_env\\lib\\site-packages (from requests) (2.2.2)\n",
      "Requirement already satisfied: certifi>=2017.4.17 in c:\\users\\annic\\onedrive\\bureau\\mainphd\\code\\behavioural_exp_code\\exploit_results_env\\lib\\site-packages (from requests) (2024.7.4)\n"
     ]
    },
    {
     "name": "stderr",
     "output_type": "stream",
     "text": [
      "\n",
      "[notice] A new release of pip is available: 24.2 -> 25.0\n",
      "[notice] To update, run: python.exe -m pip install --upgrade pip\n"
     ]
    },
    {
     "name": "stdout",
     "output_type": "stream",
     "text": [
      "Requirement already satisfied: OpenAI in c:\\users\\annic\\onedrive\\bureau\\mainphd\\code\\behavioural_exp_code\\exploit_results_env\\lib\\site-packages (1.60.1)\n",
      "Requirement already satisfied: anyio<5,>=3.5.0 in c:\\users\\annic\\onedrive\\bureau\\mainphd\\code\\behavioural_exp_code\\exploit_results_env\\lib\\site-packages (from OpenAI) (4.8.0)\n",
      "Requirement already satisfied: distro<2,>=1.7.0 in c:\\users\\annic\\onedrive\\bureau\\mainphd\\code\\behavioural_exp_code\\exploit_results_env\\lib\\site-packages (from OpenAI) (1.9.0)\n",
      "Requirement already satisfied: httpx<1,>=0.23.0 in c:\\users\\annic\\onedrive\\bureau\\mainphd\\code\\behavioural_exp_code\\exploit_results_env\\lib\\site-packages (from OpenAI) (0.28.1)\n",
      "Requirement already satisfied: jiter<1,>=0.4.0 in c:\\users\\annic\\onedrive\\bureau\\mainphd\\code\\behavioural_exp_code\\exploit_results_env\\lib\\site-packages (from OpenAI) (0.8.2)\n",
      "Requirement already satisfied: pydantic<3,>=1.9.0 in c:\\users\\annic\\onedrive\\bureau\\mainphd\\code\\behavioural_exp_code\\exploit_results_env\\lib\\site-packages (from OpenAI) (2.10.6)\n",
      "Requirement already satisfied: sniffio in c:\\users\\annic\\onedrive\\bureau\\mainphd\\code\\behavioural_exp_code\\exploit_results_env\\lib\\site-packages (from OpenAI) (1.3.1)\n",
      "Requirement already satisfied: tqdm>4 in c:\\users\\annic\\onedrive\\bureau\\mainphd\\code\\behavioural_exp_code\\exploit_results_env\\lib\\site-packages (from OpenAI) (4.66.5)\n",
      "Requirement already satisfied: typing-extensions<5,>=4.11 in c:\\users\\annic\\onedrive\\bureau\\mainphd\\code\\behavioural_exp_code\\exploit_results_env\\lib\\site-packages (from OpenAI) (4.12.2)\n",
      "Requirement already satisfied: exceptiongroup>=1.0.2 in c:\\users\\annic\\onedrive\\bureau\\mainphd\\code\\behavioural_exp_code\\exploit_results_env\\lib\\site-packages (from anyio<5,>=3.5.0->OpenAI) (1.2.2)\n",
      "Requirement already satisfied: idna>=2.8 in c:\\users\\annic\\onedrive\\bureau\\mainphd\\code\\behavioural_exp_code\\exploit_results_env\\lib\\site-packages (from anyio<5,>=3.5.0->OpenAI) (2.10)\n",
      "Requirement already satisfied: certifi in c:\\users\\annic\\onedrive\\bureau\\mainphd\\code\\behavioural_exp_code\\exploit_results_env\\lib\\site-packages (from httpx<1,>=0.23.0->OpenAI) (2024.7.4)\n",
      "Requirement already satisfied: httpcore==1.* in c:\\users\\annic\\onedrive\\bureau\\mainphd\\code\\behavioural_exp_code\\exploit_results_env\\lib\\site-packages (from httpx<1,>=0.23.0->OpenAI) (1.0.7)\n",
      "Requirement already satisfied: h11<0.15,>=0.13 in c:\\users\\annic\\onedrive\\bureau\\mainphd\\code\\behavioural_exp_code\\exploit_results_env\\lib\\site-packages (from httpcore==1.*->httpx<1,>=0.23.0->OpenAI) (0.14.0)\n",
      "Requirement already satisfied: annotated-types>=0.6.0 in c:\\users\\annic\\onedrive\\bureau\\mainphd\\code\\behavioural_exp_code\\exploit_results_env\\lib\\site-packages (from pydantic<3,>=1.9.0->OpenAI) (0.7.0)\n",
      "Requirement already satisfied: pydantic-core==2.27.2 in c:\\users\\annic\\onedrive\\bureau\\mainphd\\code\\behavioural_exp_code\\exploit_results_env\\lib\\site-packages (from pydantic<3,>=1.9.0->OpenAI) (2.27.2)\n",
      "Requirement already satisfied: colorama in c:\\users\\annic\\onedrive\\bureau\\mainphd\\code\\behavioural_exp_code\\exploit_results_env\\lib\\site-packages (from tqdm>4->OpenAI) (0.4.6)\n"
     ]
    },
    {
     "name": "stderr",
     "output_type": "stream",
     "text": [
      "\n",
      "[notice] A new release of pip is available: 24.2 -> 25.0\n",
      "[notice] To update, run: python.exe -m pip install --upgrade pip\n"
     ]
    }
   ],
   "source": [
    "!pip install requests\n",
    "!pip install OpenAI\n"
   ]
  },
  {
   "cell_type": "code",
   "execution_count": 4,
   "metadata": {},
   "outputs": [
    {
     "name": "stdout",
     "output_type": "stream",
     "text": [
      "I'm a language model, don't you fret,\n",
      "My purpose is to help, and assist you to get,\n",
      "By answering questions, and providing facts so bright,\n",
      "I'll do my best to make your day feel just right.\n",
      "\n",
      "My knowledge is vast, and I'm here to share,\n",
      "Information on many topics, beyond compare,\n",
      "From science to art, and everything in between,\n",
      "I'll do my best to help, with a smile serene.\n",
      "\n",
      "So if you've got questions, or need some aid,\n",
      "Just ask me anything, and I'll be glad,\n",
      "To help you out, and make your day shine bright,\n",
      "That's what I'm here for, with all my might!\n"
     ]
    }
   ],
   "source": [
    "from openai import OpenAI\n",
    "\n",
    "\n",
    "# Connect to LM Studio\n",
    "client = OpenAI(base_url=\"http://localhost:1234/v1\", api_key=\"lm-studio\")\n",
    "\n",
    "completion = client.chat.completions.create(\n",
    "  model=\"model-identifier\",\n",
    "  messages=[\n",
    "    {\"role\": \"system\", \"content\": \"You are an impartial agent tasked with classifying text answers in a cognitive behavioural task. You live in a Jupyter notebook. You always answer in rhymes.\"},\n",
    "    {\"role\": \"user\", \"content\": \"Introduce yourself.\"}\n",
    "  ],\n",
    "  temperature=0.7,\n",
    ")\n",
    "\n",
    "print(completion.choices[0].message.content)"
   ]
  },
  {
   "cell_type": "code",
   "execution_count": null,
   "metadata": {},
   "outputs": [
    {
     "name": "stdout",
     "output_type": "stream",
     "text": [
      "[{'role': 'system', 'content': 'You are an impartial assistant tasked with classifying subject text responses from a behavioural experiment.\\nThe subjects of the experiment performed actions by placing two points (or arrows) on an unannotated grey screen. They had to learn how to control the level of a gauge using these points.\\nThe strategy to control the gauge using the points was ambiguous by design. Subjects had to find it by themselves through trial and error.\\nThe gauge was actually controlled by the angle between the horizontal and the vector draw by the points. A 45° angle was optimal.\\nThis means that the optimal strategy was to place the second point should be placed on the upper-right compared to the first point.\\nPlacing the first point on the bottom-left corner and the second point on the top right corner also worked.\\nAt the end of the experiment, we asked subjects the following question : ***According to you, what was the best strategy in order to control the gauge level ? In retrospect, what other strategy should you have attempted ? (Try to answer as precisely as possible.)**.\\nYour job is to classify the answer of the participant into one of the following categories :\\nA. The subject did not provide any answer to the question / The answer was off-topic.\\nB. The subject found the optimal strategy.\\nC. The subject found only part of the optimal strategy (e.g. placing points on top of each other, drawing an horizontal line, etc.).\\nD. The subject thought he/she found the correct strategy but was mistaken.\\nE. The subject did not try any strategy\\nPlease only answer using the letter corresponding the the classification of the participant.'}, {'role': 'user', 'content': 'Here is the answer of the participant : **I could not understand any way to get the gauge to move up. Only towards the end do I think I may have got some control. I tried clicking in so many different areas.**'}]\n",
      "You are an impartial assistant tasked with classifying subject text responses from a behavioural experiment.\n",
      "The subjects of the experiment performed actions by placing two points (or arrows) on an unannotated grey screen. They had to learn how to control the level of a gauge using these points.\n",
      "The strategy to control the gauge using the points was ambiguous by design. Subjects had to find it by themselves through trial and error.\n",
      "The gauge was actually controlled by the angle between the horizontal and the vector draw by the points. A 45° angle was optimal.\n",
      "This means that the optimal strategy was to place the second point should be placed on the upper-right compared to the first point.\n",
      "Placing the first point on the bottom-left corner and the second point on the top right corner also worked.\n",
      "At the end of the experiment, we asked subjects the following question : ***According to you, what was the best strategy in order to control the gauge level ? In retrospect, what other strategy should you have attempted ? (Try to answer as precisely as possible.)**.\n",
      "Your job is to classify the answer of the participant into one of the following categories :\n",
      "A. The subject did not provide any answer to the question / The answer was off-topic.\n",
      "B. The subject found the optimal strategy.\n",
      "C. The subject found only part of the optimal strategy (e.g. placing points on top of each other, drawing an horizontal line, etc.).\n",
      "D. The subject thought he/she found the correct strategy but was mistaken.\n",
      "E. The subject did not try any strategy\n",
      "Please only answer using the letter corresponding the the classification of the participant.\n",
      "---\n",
      "Here is the answer of the participant : **I could not understand any way to get the gauge to move up. Only towards the end do I think I may have got some control. I tried clicking in so many different areas.**\n"
     ]
    },
    {
     "ename": "NameError",
     "evalue": "name 'client' is not defined",
     "output_type": "error",
     "traceback": [
      "\u001b[1;31m---------------------------------------------------------------------------\u001b[0m",
      "\u001b[1;31mNameError\u001b[0m                                 Traceback (most recent call last)",
      "Cell \u001b[1;32mIn[1], line 64\u001b[0m\n\u001b[0;32m     61\u001b[0m \u001b[38;5;28mprint\u001b[39m(\u001b[38;5;124m\"\u001b[39m\u001b[38;5;124m---\u001b[39m\u001b[38;5;124m\"\u001b[39m)\n\u001b[0;32m     62\u001b[0m \u001b[38;5;28mprint\u001b[39m(message[\u001b[38;5;241m1\u001b[39m][\u001b[38;5;124m\"\u001b[39m\u001b[38;5;124mcontent\u001b[39m\u001b[38;5;124m\"\u001b[39m])\n\u001b[1;32m---> 64\u001b[0m completion \u001b[38;5;241m=\u001b[39m \u001b[43mclient\u001b[49m\u001b[38;5;241m.\u001b[39mchat\u001b[38;5;241m.\u001b[39mcompletions\u001b[38;5;241m.\u001b[39mcreate(\n\u001b[0;32m     65\u001b[0m     model\u001b[38;5;241m=\u001b[39m\u001b[38;5;124m\"\u001b[39m\u001b[38;5;124mmodel-identifier\u001b[39m\u001b[38;5;124m\"\u001b[39m,\n\u001b[0;32m     66\u001b[0m     messages\u001b[38;5;241m=\u001b[39mmessage,\n\u001b[0;32m     67\u001b[0m     temperature \u001b[38;5;241m=\u001b[39m \u001b[38;5;241m0.1\u001b[39m,\n\u001b[0;32m     68\u001b[0m )\n\u001b[0;32m     70\u001b[0m \u001b[38;5;28mprint\u001b[39m(completion\u001b[38;5;241m.\u001b[39mchoices[\u001b[38;5;241m0\u001b[39m]\u001b[38;5;241m.\u001b[39mmessage\u001b[38;5;241m.\u001b[39mcontent)\n",
      "\u001b[1;31mNameError\u001b[0m: name 'client' is not defined"
     ]
    }
   ],
   "source": [
    "def llm_request_message(question,subject_answer) :\n",
    "    \n",
    "    _general_role = \"You are an impartial assistant tasked with classifying subject text responses from a behavioural experiment.\"\n",
    "    _experiment_general = \"The subjects of the experiment performed actions by placing two points (or arrows) on an unannotated grey screen. They had to learn how to control the level of a gauge using these points.\"\n",
    "    _experiment_general_2 =  \"The strategy to control the gauge using the points was ambiguous by design. Subjects had to find it by themselves through trial and error.\"\n",
    "    _experiment_general_3 = \"The gauge was actually controlled by the angle between the horizontal and the vector draw by the points. A 45° angle was optimal.\"\n",
    "    _experiment_general_4 = \"This means that the optimal strategy was to place the second point should be placed on the upper-right compared to the first point.\"\n",
    "    _experiment_general_5 = \"Placing the first point on the bottom-left corner and the second point on the top right corner also worked.\"\n",
    "    _question = \"At the end of the experiment, we asked subjects the following question : **{}**.\".format(question[\"prompt\"])\n",
    "    _task = \"Your job is to classify the answer of the participant into one of the following categories :\"    \n",
    "    _categories = \"\\n\".join([cat[\"letter\"] + \". \" + cat[\"content\"] for cat in question[\"categories\"]])\n",
    "    _constraint = \"Please only answer using the letter corresponding the the classification of the participant.\"\n",
    "    system_directive = \"\\n\".join([_general_role,_experiment_general,_experiment_general_2,_experiment_general_3,_experiment_general_4,_experiment_general_5,_question,_task,_categories,_constraint])\n",
    "    \n",
    "    _answer = \"Here is the answer of the participant : **{}**\".format(subject_answer)\n",
    "    \n",
    "    messages=[\n",
    "            {\"role\": \"system\", \"content\": system_directive},\n",
    "            {\"role\": \"user\", \"content\": _answer}\n",
    "        ]\n",
    "    return messages\n",
    "    \n",
    "\n",
    "    # I want you to classify the answer of the participant into one of the following categories : \n",
    "    # 1. What was the strategy adopted by the participant ?\n",
    "    # - A : Did not answer the question\n",
    "    # - B : Found the optimal strategy (equivalent representations such as \"making a 45° angle\" are accepted)\n",
    "    # - C : Found only part of the optimal strategy (e.g. placing points on top of each other or drawing an horizontal line)\n",
    "    # - D : Thought he/she found the correct strategy but was mistaken\n",
    "    # - E : Could not find any strategy\n",
    "    # - F : The answer was off-topic\n",
    "\n",
    "    # 2. Regardless of what strategy they actually reported, what did the participant suggest he / she should have done instead ?\n",
    "    # - A : He / She did not answer that question\n",
    "    # - B : He / She suggested the optimal strategy\n",
    "    # - C : He / She suggested a strategy that was not optimal\n",
    "\n",
    "    # Please only answer using the letter corresponding the the classification of the participant.\n",
    "    # \"\"\".format(subject_answer)\n",
    "    \n",
    "question_1 = {\n",
    "        \"prompt\":\"According to you, what was the best strategy in order to control the gauge level ? In retrospect, what other strategy should you have attempted ? (Try to answer as precisely as possible.)\",\n",
    "        \"categories\":[\n",
    "            {\"letter\" : \"A\", \"content\" : \"The subject did not provide any answer to the question / The answer was off-topic.\"},\n",
    "            {\"letter\" : \"B\", \"content\" : \"The subject found the optimal strategy.\"},\n",
    "            {\"letter\" : \"C\", \"content\" : \"The subject found only part of the optimal strategy (e.g. placing points on top of each other, drawing an horizontal line, etc.).\"},\n",
    "            {\"letter\" : \"D\", \"content\" : \"The subject thought he/she found the correct strategy but was mistaken.\"},\n",
    "            {\"letter\" : \"E\", \"content\" : \"The subject did not try any strategy\"},\n",
    "        ]\n",
    "    }\n",
    "\n",
    "\n",
    "question_2 = {\n",
    "        \"prompt\":\"Did you notice any technical issues (buttons not working, graphical bugs, etc.) ? If yes, how did they appear ?\",\n",
    "        \"categories\":[\n",
    "            {\"letter\" : \"A\", \"content\" : \"The subject did not provide any answer to the question / The answer was off-topic.\"},\n",
    "            {\"letter\" : \"B\", \"content\" : \"The subject did not encounter any issue.\"},\n",
    "            {\"letter\" : \"C\", \"content\" : \"The subject encountered only minor technical issues : display delays, lag, stuttering.\"},\n",
    "            {\"letter\" : \"D\", \"content\" : \"The subject encountered serious issues but only affected a limited amount of data (e.g. only in a few actions).\"},\n",
    "            {\"letter\" : \"E\", \"content\" : \"The subject encountered catastrophic issues that impacted the gathering of meaningful data.\"},\n",
    "        ]\n",
    "    }\n",
    "\n",
    "question_3 = {\n",
    "        \"prompt\":\"The instructions were meant to help you understand the task before it started. How clear did you find them ? What would you change to make them clearer ?\",\n",
    "        \"categories\":[\n",
    "            {\"letter\" : \"A\", \"content\" : \"The subject did not provide any answer to the question / The answer was off-topic.\"},\n",
    "            {\"letter\" : \"B\", \"content\" : \"The subject fully understood the instructions.\"},\n",
    "            {\"letter\" : \"C\", \"content\" : \"The subject partially understood the instructions.\"},\n",
    "            {\"letter\" : \"D\", \"content\" : \"The subject struggled to understand the instructions.\"},\n",
    "            {\"letter\" : \"E\", \"content\" : \"The subject did not understand the instructions at all.\"},\n",
    "        ]\n",
    "    }\n",
    "\n",
    "question_4 = {\n",
    "        \"prompt\":\"Do you think there was a logic behind how the gauge responded ? How hard / frustrating did you find the task ? Other remarks ?\",\n",
    "        \"categories\":[\n",
    "            {\"letter\" : \"A\", \"content\" : \"The subject did not provide any answer to the question / The answer was off-topic.\"},\n",
    "            {\"letter\" : \"B\", \"content\" : \"The subject believed there was a logic behind how the gauge behaved and found it.\"},\n",
    "            {\"letter\" : \"C\", \"content\" : \"The subject believed there was a logic behind how the gauge behaved but did not manage to find it.\"},\n",
    "            {\"letter\" : \"D\", \"content\" : \"The subject believed there was a slight logic behind how the gauge behaved but with significant erratic behaviour.\"},\n",
    "            {\"letter\" : \"E\", \"content\" : \"The subject did not find any logic in the gauge behaviour.\"},\n",
    "        ]\n",
    "    }\n",
    "\n",
    "question_5 = {\n",
    "        \"prompt\":\"Do you think there was a logic behind how the gauge responded ? How hard / frustrating did you find the task ? Other remarks ?\",\n",
    "        \"categories\":[\n",
    "            {\"letter\" : \"A\", \"content\" : \"The subject did not provide any answer to the question.\"},\n",
    "            {\"letter\" : \"B\", \"content\" : \"The task was very easy to the subject.\"},\n",
    "            {\"letter\" : \"C\", \"content\" : \"The task was moderately easy to the subject.\"},\n",
    "            {\"letter\" : \"D\", \"content\" : \"The task was initially hard but then became easy when the subject found out the correct strategy.\"},\n",
    "            {\"letter\" : \"E\", \"content\" : \"The task was very hard to the subject.\"},\n",
    "        ]\n",
    "    }\n",
    "\n",
    "question_6 = {\n",
    "        \"prompt\":\"Do you think there was a logic behind how the gauge responded ? How hard / frustrating did you find the task ? Other remarks ?\",\n",
    "        \"categories\":[\n",
    "            {\"letter\" : \"A\", \"content\" : \"The subject did not provide any answer to the question.\"},\n",
    "            {\"letter\" : \"B\", \"content\" : \"The subject found the task funny / entertaining / interesting.\"},\n",
    "            {\"letter\" : \"C\", \"content\" : \"The subject reported no strong opinion on the task.\"},\n",
    "            {\"letter\" : \"D\", \"content\" : \"The subject found the task boring.\"},\n",
    "            {\"letter\" : \"E\", \"content\" : \"The subject found the task a bit frustrating.\"},\n",
    "            {\"letter\" : \"G\", \"content\" : \"The subject found the task very frustrating.\"},\n",
    "        ]\n",
    "    }\n",
    "\n",
    "\n",
    "\n",
    "\n",
    "\n",
    "\n",
    "subject_answer = \"the strategy was to start the first point from the bottom left corner to the top right corner in order to get the most out of the guage\"\n",
    "# subject_answer = \"What I did was placing the two points at an increasingly higher distance. To maximise that space, I placed them on a diagonal. I randomly/intuitively chose the lower-left corner to upper-right corner (in this sequence), and it appeared to work perfectly, so I did not change the strategy till the end.\"\n",
    "subject_answer = \"It worked when I put the arrows side by side.\"\n",
    "subject_answer = \"I could not understand any way to get the gauge to move up. Only towards the end do I think I may have got some control. I tried clicking in so many different areas.\"\n",
    "message = llm_request_message(question_1,subject_answer)\n",
    "\n",
    "print(message)\n",
    "\n",
    "print(message[0][\"content\"])\n",
    "print(\"---\")\n",
    "print(message[1][\"content\"])\n",
    "\n",
    "completion = client.chat.completions.create(\n",
    "    model=\"model-identifier\",\n",
    "    messages=message,\n",
    "    temperature = 0.1,\n",
    ")\n",
    "\n",
    "print(completion.choices[0].message.content)\n"
   ]
  },
  {
   "cell_type": "code",
   "execution_count": 6,
   "metadata": {},
   "outputs": [
    {
     "data": {
      "text/plain": [
       "()"
      ]
     },
     "execution_count": 6,
     "metadata": {},
     "output_type": "execute_result"
    }
   ],
   "source": [
    "()"
   ]
  }
 ],
 "metadata": {
  "kernelspec": {
   "display_name": "exploit_results_env",
   "language": "python",
   "name": "python3"
  },
  "language_info": {
   "codemirror_mode": {
    "name": "ipython",
    "version": 3
   },
   "file_extension": ".py",
   "mimetype": "text/x-python",
   "name": "python",
   "nbconvert_exporter": "python",
   "pygments_lexer": "ipython3",
   "version": "3.10.4"
  }
 },
 "nbformat": 4,
 "nbformat_minor": 2
}
